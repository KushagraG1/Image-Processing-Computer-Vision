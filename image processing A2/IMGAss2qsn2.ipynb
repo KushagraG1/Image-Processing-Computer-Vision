{
  "nbformat": 4,
  "nbformat_minor": 0,
  "metadata": {
    "colab": {
      "provenance": []
    },
    "kernelspec": {
      "name": "python3",
      "display_name": "Python 3"
    },
    "language_info": {
      "name": "python"
    }
  },
  "cells": [
    {
      "cell_type": "code",
      "execution_count": 19,
      "metadata": {
        "id": "-SBc9LhSAqbK"
      },
      "outputs": [],
      "source": [
        "from PIL import Image\n",
        "import numpy as np\n",
        "from skimage import io\n",
        "import matplotlib.pyplot as plt\n"
      ]
    },
    {
      "cell_type": "code",
      "source": [
        "n = input (\"Type the input number:\")\n",
        "x = int((int(n)%100)/10)\n",
        "y = int(n)%10\n",
        "digit=[x,y]"
      ],
      "metadata": {
        "id": "G2P4n4uNC3vb",
        "colab": {
          "base_uri": "https://localhost:8080/"
        },
        "outputId": "2e8af210-6a71-4bea-a1bf-e6fff6ecf46d"
      },
      "execution_count": 20,
      "outputs": [
        {
          "name": "stdout",
          "output_type": "stream",
          "text": [
            "Type the input number:210551\n"
          ]
        }
      ]
    },
    {
      "cell_type": "code",
      "source": [
        "\n",
        "def pattern(img_1, x, y):\n",
        "    img_2 = img_1.copy()\n",
        "    radius = 25\n",
        "    for i in range(x - radius, x + radius + 1):\n",
        "        for j in range(y - radius, y + radius + 1):\n",
        "            if (i - x) ** 2 + (j - y) ** 2 <= radius ** 2:\n",
        "                img_2[i, j] = 255\n",
        "    return img_2\n",
        "\n",
        "\n",
        "for p in range(2):\n",
        "    if digit[p] in [0, 2, 3, 4, 5, 6, 7, 8, 9]:\n",
        "        photo[p] = pattern(photo[p], 49, 61)\n",
        "    if digit[p] in [0, 4, 5, 6, 8, 9]:\n",
        "        photo[p] = pattern(photo[p], 99, 61)\n",
        "    if digit[p] in [0, 2, 3, 4, 5, 6, 8, 9]:\n",
        "        photo[p] = pattern(photo[p], 149, 61)\n",
        "    if digit[p] in [0, 2, 6, 8]:\n",
        "        photo[p] = pattern(photo[p], 199, 61)\n",
        "    if digit[p] in [0, 2, 3, 5, 6, 8, 9]:\n",
        "        photo[p] = pattern(photo[p], 249, 61)\n",
        "\n",
        "    if digit[p] in [0, 2, 3, 5, 6, 7, 8, 9]:\n",
        "        photo[p] = pattern(photo[p], 49, 123)\n",
        "    if digit[p] in []:\n",
        "        photo[p] = pattern(photo[p], 99, 123)\n",
        "    if digit[p] in [2, 3, 4, 5, 6, 8, 9]:\n",
        "        photo[p] = pattern(photo[p], 149, 123)\n",
        "    if digit[p] in []:\n",
        "        photo[p] = pattern(photo[p], 199, 123)\n",
        "    if digit[p] in [0, 2, 3, 5, 6, 8, 9]:\n",
        "        photo[p] = pattern(photo[p], 249, 123)\n",
        "\n",
        "    if digit[p] in [0, 1, 2, 3, 4, 5, 6, 7, 8, 9]:\n",
        "        photo[p] = pattern(photo[p], 49, 185)\n",
        "    if digit[p] in [0, 1, 2, 3, 4, 7, 8, 9]:\n",
        "        photo[p] = pattern(photo[p], 99, 185)\n",
        "    if digit[p] in [0, 1, 2, 3, 4, 5, 6, 7, 8, 9]:\n",
        "        photo[p] = pattern(photo[p], 149, 185)\n",
        "    if digit[p] in [0, 1, 3, 4, 5, 6, 7, 8, 9]:\n",
        "        photo[p] = pattern(photo[p], 199, 185)\n",
        "    if digit[p] in [0, 1, 2, 3, 4, 5, 6, 7, 8, 9]:\n",
        "        photo[p] = pattern(photo[p], 249, 185)\n",
        "\n",
        "\n"
      ],
      "metadata": {
        "id": "Tlc9BUnZcRyf"
      },
      "execution_count": 21,
      "outputs": []
    },
    {
      "cell_type": "code",
      "source": [
        "data1 = np.zeros((300, 250), dtype=np.uint8)\n",
        "img1 = Image.fromarray(data1, mode=\"L\")\n",
        "\n",
        "data2 = np.zeros((300, 250), dtype=np.uint8)\n",
        "img2 = Image.fromarray(data2, mode=\"L\")\n",
        "\n",
        "photo = [np.array(img1), np.array(img2)]"
      ],
      "metadata": {
        "id": "Rp9-jgsGcgOz"
      },
      "execution_count": 22,
      "outputs": []
    },
    {
      "cell_type": "code",
      "source": [
        "for p in range(2):\n",
        "    if digit[p] in [0, 2, 3, 4, 5, 6, 7, 8, 9]:\n",
        "        photo[p] = pattern(photo[p], 49, 61)\n",
        "    if digit[p] in [0, 4, 5, 6, 8, 9]:\n",
        "        photo[p] = pattern(photo[p], 99, 61)\n",
        "    if digit[p] in [0, 2, 3, 4, 5, 6, 8, 9]:\n",
        "        photo[p] = pattern(photo[p], 149, 61)\n",
        "    if digit[p] in [0, 2, 6, 8]:\n",
        "        photo[p] = pattern(photo[p], 199, 61)\n",
        "    if digit[p] in [0, 2, 3, 5, 6, 8, 9]:\n",
        "        photo[p] = pattern(photo[p], 249, 61)\n",
        "\n",
        "    if digit[p] in [0, 2, 3, 5, 6, 7, 8, 9]:\n",
        "        photo[p] = pattern(photo[p], 49, 123)\n",
        "    if digit[p] in []:\n",
        "        photo[p] = pattern(photo[p], 99, 123)\n",
        "    if digit[p] in [2, 3, 4, 5, 6, 8, 9]:\n",
        "        photo[p] = pattern(photo[p], 149, 123)\n",
        "    if digit[p] in []:\n",
        "        photo[p] = pattern(photo[p], 199, 123)\n",
        "    if digit[p] in [0, 2, 3, 5, 6, 8, 9]:\n",
        "        photo[p] = pattern(photo[p], 249, 123)\n",
        "\n",
        "    if digit[p] in [0, 1, 2, 3, 4, 5, 6, 7, 8, 9]:\n",
        "        photo[p] = pattern(photo[p], 49, 185)\n",
        "    if digit[p] in [0, 1, 2, 3, 4, 7, 8, 9]:\n",
        "        photo[p] = pattern(photo[p], 99, 185)\n",
        "    if digit[p] in [0, 1, 2, 3, 4, 5, 6, 7, 8, 9]:\n",
        "        photo[p] = pattern(photo[p], 149, 185)\n",
        "    if digit[p] in [0, 1, 3, 4, 5, 6, 7, 8, 9]:\n",
        "        photo[p] = pattern(photo[p], 199, 185)\n",
        "    if digit[p] in [0, 1, 2, 3, 4, 5, 6, 7, 8, 9]:\n",
        "        photo[p] = pattern(photo[p], 249, 185)\n"
      ],
      "metadata": {
        "id": "qmtR6XmicjPy"
      },
      "execution_count": 23,
      "outputs": []
    },
    {
      "cell_type": "code",
      "source": [
        "final_image = np.concatenate((photo[0], photo[1]), axis=1)\n",
        "plt.axis('off')\n",
        "io.imshow(final_image)"
      ],
      "metadata": {
        "colab": {
          "base_uri": "https://localhost:8080/",
          "height": 421
        },
        "id": "Pw5_Nq_3qRal",
        "outputId": "2cf8d926-18f6-4a33-a158-3fd084b535e4"
      },
      "execution_count": 24,
      "outputs": [
        {
          "output_type": "execute_result",
          "data": {
            "text/plain": [
              "<matplotlib.image.AxesImage at 0x7f7213513340>"
            ]
          },
          "metadata": {},
          "execution_count": 24
        },
        {
          "output_type": "display_data",
          "data": {
            "text/plain": [
              "<Figure size 640x480 with 1 Axes>"
            ],
            "image/png": "[encoded data removed]"
          },
          "metadata": {}
        }
      ]
    }
  ]
}